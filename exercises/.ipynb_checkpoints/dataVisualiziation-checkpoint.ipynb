{
 "cells": [
  {
   "cell_type": "code",
   "execution_count": 1,
   "metadata": {},
   "outputs": [],
   "source": [
    "import pandas as pd\n",
    "import matplotlib.pyplot as plt\n",
    "import seaborn as sns\n",
    "from pandas.api.types import CategoricalDtype"
   ]
  },
  {
   "cell_type": "code",
   "execution_count": null,
   "metadata": {},
   "outputs": [],
   "source": [
    "planets = sns.load_dataset(\"planets\")\n",
    "#DataFrame'i oluştururken kopyasını alıyoruz ki daha sonra değişime gittikten sonra tekrar ulaşabilelim\n",
    "df = planets.copy()\n",
    "print(df)\n",
    "print(\"Data Frame Info : \", df.info())\n",
    "print(\"Data Frame Types : \\n\",  df.dtypes)\n",
    "df.method = pd.Categorical(df.method)\n",
    "print(\"Data Frame's first 5 elements : \\n\", df.head())\n",
    "print(\"Data Frame's last 5 elements : \\n\", df.tail())\n",
    "print(\"Data Frame's shape : \\n\", df.shape)\n",
    "print(\"Data Frame's columns : \\n\", df.columns)\n",
    "print(\"Data Frame : \\n\", df.describe().T)\n",
    "print(\"All Data Frame : \\n\", df.describe(include = \"all\").T)\n",
    "print(\"Is there any blank in Data Frame? : \\n\", df.isnull().values.any())\n",
    "print(\"Data Frame's blanks : \\n\", df.isnull().sum())\n",
    "#df[\"columnName\"].fillna(0, inplace = True)\n",
    "#df[\"columnName\"].fillna(df.columnName.mean(), inplace = True)\n",
    "df = planets.copy()\n",
    "kat_df = df.select_dtypes(include = [\"object\"])\n",
    "print(kat_df.head())\n",
    "print(\"Unique categorie name in Data Frame : \\n\", kat_df.method.unique())\n",
    "print(\"Name of Values : \\n\", kat_df[\"method\"].value_counts())\n",
    "print(\"# of Piece : \\n\", kat_df[\"method\"].value_counts().count())\n",
    "#kat_df[\"method\"].value_counts().plot.barh()\n",
    "#plt.show()\n",
    "\n",
    "df_num = df.select_dtypes(include = [\"float64\", \"int64\"])\n",
    "df_num.head(10)\n",
    "df_num.describe().T\n",
    "df_num[\"distance\"].describe().T\n"
   ]
  },
  {
   "cell_type": "code",
   "execution_count": null,
   "metadata": {},
   "outputs": [],
   "source": [
    "df_num[\"distance\"].describe().T"
   ]
  },
  {
   "cell_type": "code",
   "execution_count": null,
   "metadata": {},
   "outputs": [],
   "source": [
    "diamonds = sns.load_dataset('diamonds') \n",
    "df = diamonds.copy()\n",
    "cut_kategoriler = [\"Fair\", \"Good\", \"Very Good\", \"Premium\", \"Ideal\"]\n",
    "df.cut = df.cut.astype(CategoricalDtype(categories = cut_kategoriler, ordered = True))\n",
    "print(\"Data Frame's first 5 elements of Diamonds DF : \\n\", df.head())\n",
    "\n",
    "sns.barplot(x = \"cut\", y = df.cut.index, data = df)\n",
    "plt.show()\n",
    "sns.catplot(x = \"cut\", y = \"price\", data = df)\n",
    "plt.show()\n",
    "#Histogram ve Yoğunluk\n",
    "#sns.distplot(df.price)\n",
    "#sns.distplot(df.price, hist = False)\n",
    "sns.distplot(df.price, bins = 10, kde = False)\n",
    "plt.show()\n",
    "sns.kdeplot(df.price, shade = True)\n",
    "plt.show()\n",
    "sns.FacetGrid(df, hue = \"cut\", height = 5, xlim = (0, 10000)).map(sns.kdeplot, \"price\", shade = True).add_legend()\n",
    "plt.show()\n",
    "sns.catplot(x = \"cut\", y = \"price\", hue = \"color\", kind = \"point\", data = df)\n",
    "plt.show()\n",
    "sns.barplot(x = \"cut\", y = \"price\", hue = \"color\", data = df)\n",
    "plt.show()\n",
    "print(df[\"color\"].value_counts())\n",
    "\n"
   ]
  },
  {
   "cell_type": "code",
   "execution_count": null,
   "metadata": {},
   "outputs": [],
   "source": [
    "tips = sns.load_dataset(\"tips\")\n",
    "df = tips.copy()\n",
    "df.head()"
   ]
  },
  {
   "cell_type": "code",
   "execution_count": null,
   "metadata": {},
   "outputs": [],
   "source": [
    "df.describe().T"
   ]
  },
  {
   "cell_type": "code",
   "execution_count": null,
   "metadata": {},
   "outputs": [],
   "source": [
    "df[\"sex\"].value_counts()"
   ]
  },
  {
   "cell_type": "code",
   "execution_count": null,
   "metadata": {},
   "outputs": [],
   "source": [
    "sns.barplot(x = \"size\", y = \"total_bill\", hue = \"sex\", data = df)"
   ]
  },
  {
   "cell_type": "code",
   "execution_count": null,
   "metadata": {},
   "outputs": [],
   "source": [
    "sns.scatterplot(x = \"total_bill\", y = \"tip\", hue = \"sex\", style = \"day\", data = df);"
   ]
  },
  {
   "cell_type": "code",
   "execution_count": null,
   "metadata": {},
   "outputs": [],
   "source": [
    "sns.lmplot(x = \"total_bill\", y = \"tip\", data = df)"
   ]
  },
  {
   "cell_type": "code",
   "execution_count": null,
   "metadata": {},
   "outputs": [],
   "source": [
    "sns.lmplot(x = \"total_bill\", y = \"tip\", hue = \"smoker\", data = df)"
   ]
  },
  {
   "cell_type": "code",
   "execution_count": null,
   "metadata": {},
   "outputs": [],
   "source": [
    "sns.lmplot(x = \"total_bill\", y = \"tip\", hue = \"smoker\", col = \"time\", data = df)"
   ]
  },
  {
   "cell_type": "code",
   "execution_count": null,
   "metadata": {},
   "outputs": [],
   "source": [
    "sns.lmplot(x = \"total_bill\", y = \"tip\", hue = \"smoker\", row = \"sex\", col = \"time\", data = df)"
   ]
  },
  {
   "cell_type": "code",
   "execution_count": null,
   "metadata": {},
   "outputs": [],
   "source": [
    "iris = sns.load_dataset(\"iris\")\n",
    "df = iris.copy()\n",
    "df.head(10)"
   ]
  },
  {
   "cell_type": "code",
   "execution_count": null,
   "metadata": {},
   "outputs": [],
   "source": [
    "df.describe().T"
   ]
  },
  {
   "cell_type": "code",
   "execution_count": null,
   "metadata": {},
   "outputs": [],
   "source": [
    "sns.pairplot(df, hue = \"species\")"
   ]
  },
  {
   "cell_type": "code",
   "execution_count": null,
   "metadata": {},
   "outputs": [],
   "source": [
    "sns.pairplot(df, kind = \"reg\", hue = \"species\")"
   ]
  },
  {
   "cell_type": "code",
   "execution_count": null,
   "metadata": {},
   "outputs": [],
   "source": [
    "flights = sns.load_dataset(\"flights\")\n",
    "df = flights.copy()\n",
    "df"
   ]
  },
  {
   "cell_type": "code",
   "execution_count": null,
   "metadata": {},
   "outputs": [],
   "source": [
    "df.shape"
   ]
  },
  {
   "cell_type": "code",
   "execution_count": null,
   "metadata": {},
   "outputs": [],
   "source": [
    "sns.barplot(x = \"year\", y = \"passengers\", data = df)"
   ]
  },
  {
   "cell_type": "code",
   "execution_count": null,
   "metadata": {},
   "outputs": [],
   "source": [
    "df = df.pivot(\"year\", \"month\", \"passengers\").T\n",
    "df"
   ]
  },
  {
   "cell_type": "code",
   "execution_count": null,
   "metadata": {},
   "outputs": [],
   "source": [
    "sns.heatmap(df)"
   ]
  },
  {
   "cell_type": "code",
   "execution_count": null,
   "metadata": {},
   "outputs": [],
   "source": [
    "sns.heatmap(df, annot = True, fmt = \"d\")"
   ]
  },
  {
   "cell_type": "code",
   "execution_count": null,
   "metadata": {},
   "outputs": [],
   "source": [
    "fmri = sns.load_dataset(\"fmri\")\n",
    "df = fmri.copy()\n",
    "df.head()"
   ]
  },
  {
   "cell_type": "code",
   "execution_count": null,
   "metadata": {},
   "outputs": [],
   "source": [
    "df.shape"
   ]
  },
  {
   "cell_type": "code",
   "execution_count": null,
   "metadata": {},
   "outputs": [],
   "source": [
    "df.describe().T"
   ]
  },
  {
   "cell_type": "code",
   "execution_count": null,
   "metadata": {
    "scrolled": true
   },
   "outputs": [],
   "source": [
    "sns.lineplot(x = \"timepoint\", y = \"signal\", hue = \"event\", data = df)"
   ]
  },
  {
   "cell_type": "code",
   "execution_count": null,
   "metadata": {},
   "outputs": [],
   "source": [
    "sns.pairplot(df, hue = \"event\")"
   ]
  },
  {
   "cell_type": "code",
   "execution_count": 3,
   "metadata": {},
   "outputs": [
    {
     "name": "stdout",
     "output_type": "stream",
     "text": [
      "Requirement already satisfied: pandas_datareader in c:\\users\\alperen\\anaconda3\\lib\\site-packages (0.9.0)\n",
      "Requirement already satisfied: requests>=2.19.0 in c:\\users\\alperen\\anaconda3\\lib\\site-packages (from pandas_datareader) (2.24.0)\n",
      "Requirement already satisfied: pandas>=0.23 in c:\\users\\alperen\\anaconda3\\lib\\site-packages (from pandas_datareader) (1.0.5)\n",
      "Requirement already satisfied: lxml in c:\\users\\alperen\\anaconda3\\lib\\site-packages (from pandas_datareader) (4.5.2)\n",
      "Requirement already satisfied: certifi>=2017.4.17 in c:\\users\\alperen\\anaconda3\\lib\\site-packages (from requests>=2.19.0->pandas_datareader) (2020.6.20)\n",
      "Requirement already satisfied: idna<3,>=2.5 in c:\\users\\alperen\\anaconda3\\lib\\site-packages (from requests>=2.19.0->pandas_datareader) (2.10)\n",
      "Requirement already satisfied: chardet<4,>=3.0.2 in c:\\users\\alperen\\anaconda3\\lib\\site-packages (from requests>=2.19.0->pandas_datareader) (3.0.4)\n",
      "Requirement already satisfied: urllib3!=1.25.0,!=1.25.1,<1.26,>=1.21.1 in c:\\users\\alperen\\anaconda3\\lib\\site-packages (from requests>=2.19.0->pandas_datareader) (1.25.9)\n",
      "Requirement already satisfied: python-dateutil>=2.6.1 in c:\\users\\alperen\\anaconda3\\lib\\site-packages (from pandas>=0.23->pandas_datareader) (2.8.1)\n",
      "Requirement already satisfied: pytz>=2017.2 in c:\\users\\alperen\\anaconda3\\lib\\site-packages (from pandas>=0.23->pandas_datareader) (2020.1)\n",
      "Requirement already satisfied: numpy>=1.13.3 in c:\\users\\alperen\\anaconda3\\lib\\site-packages (from pandas>=0.23->pandas_datareader) (1.18.5)\n",
      "Requirement already satisfied: six>=1.5 in c:\\users\\alperen\\anaconda3\\lib\\site-packages (from python-dateutil>=2.6.1->pandas>=0.23->pandas_datareader) (1.15.0)\n"
     ]
    }
   ],
   "source": [
    "!pip install pandas_datareader\n",
    "import pandas_datareader as pr"
   ]
  },
  {
   "cell_type": "code",
   "execution_count": 4,
   "metadata": {},
   "outputs": [
    {
     "data": {
      "text/html": [
       "<div>\n",
       "<style scoped>\n",
       "    .dataframe tbody tr th:only-of-type {\n",
       "        vertical-align: middle;\n",
       "    }\n",
       "\n",
       "    .dataframe tbody tr th {\n",
       "        vertical-align: top;\n",
       "    }\n",
       "\n",
       "    .dataframe thead th {\n",
       "        text-align: right;\n",
       "    }\n",
       "</style>\n",
       "<table border=\"1\" class=\"dataframe\">\n",
       "  <thead>\n",
       "    <tr style=\"text-align: right;\">\n",
       "      <th></th>\n",
       "      <th>High</th>\n",
       "      <th>Low</th>\n",
       "      <th>Open</th>\n",
       "      <th>Close</th>\n",
       "      <th>Volume</th>\n",
       "      <th>Adj Close</th>\n",
       "    </tr>\n",
       "    <tr>\n",
       "      <th>Date</th>\n",
       "      <th></th>\n",
       "      <th></th>\n",
       "      <th></th>\n",
       "      <th></th>\n",
       "      <th></th>\n",
       "      <th></th>\n",
       "    </tr>\n",
       "  </thead>\n",
       "  <tbody>\n",
       "    <tr>\n",
       "      <th>2016-01-04</th>\n",
       "      <td>26.342501</td>\n",
       "      <td>25.500000</td>\n",
       "      <td>25.652500</td>\n",
       "      <td>26.337500</td>\n",
       "      <td>270597600.0</td>\n",
       "      <td>24.443037</td>\n",
       "    </tr>\n",
       "    <tr>\n",
       "      <th>2016-01-05</th>\n",
       "      <td>26.462500</td>\n",
       "      <td>25.602501</td>\n",
       "      <td>26.437500</td>\n",
       "      <td>25.677500</td>\n",
       "      <td>223164000.0</td>\n",
       "      <td>23.830513</td>\n",
       "    </tr>\n",
       "    <tr>\n",
       "      <th>2016-01-06</th>\n",
       "      <td>25.592501</td>\n",
       "      <td>24.967501</td>\n",
       "      <td>25.139999</td>\n",
       "      <td>25.174999</td>\n",
       "      <td>273829600.0</td>\n",
       "      <td>23.364161</td>\n",
       "    </tr>\n",
       "    <tr>\n",
       "      <th>2016-01-07</th>\n",
       "      <td>25.032499</td>\n",
       "      <td>24.107500</td>\n",
       "      <td>24.670000</td>\n",
       "      <td>24.112499</td>\n",
       "      <td>324377600.0</td>\n",
       "      <td>22.378082</td>\n",
       "    </tr>\n",
       "    <tr>\n",
       "      <th>2016-01-08</th>\n",
       "      <td>24.777500</td>\n",
       "      <td>24.190001</td>\n",
       "      <td>24.637501</td>\n",
       "      <td>24.240000</td>\n",
       "      <td>283192000.0</td>\n",
       "      <td>22.496408</td>\n",
       "    </tr>\n",
       "    <tr>\n",
       "      <th>...</th>\n",
       "      <td>...</td>\n",
       "      <td>...</td>\n",
       "      <td>...</td>\n",
       "      <td>...</td>\n",
       "      <td>...</td>\n",
       "      <td>...</td>\n",
       "    </tr>\n",
       "    <tr>\n",
       "      <th>2019-08-19</th>\n",
       "      <td>53.182499</td>\n",
       "      <td>52.507500</td>\n",
       "      <td>52.654999</td>\n",
       "      <td>52.587502</td>\n",
       "      <td>97654400.0</td>\n",
       "      <td>52.070862</td>\n",
       "    </tr>\n",
       "    <tr>\n",
       "      <th>2019-08-20</th>\n",
       "      <td>53.337502</td>\n",
       "      <td>52.580002</td>\n",
       "      <td>52.720001</td>\n",
       "      <td>52.590000</td>\n",
       "      <td>107537200.0</td>\n",
       "      <td>52.073338</td>\n",
       "    </tr>\n",
       "    <tr>\n",
       "      <th>2019-08-21</th>\n",
       "      <td>53.412498</td>\n",
       "      <td>52.900002</td>\n",
       "      <td>53.247501</td>\n",
       "      <td>53.160000</td>\n",
       "      <td>86141600.0</td>\n",
       "      <td>52.637737</td>\n",
       "    </tr>\n",
       "    <tr>\n",
       "      <th>2019-08-22</th>\n",
       "      <td>53.610001</td>\n",
       "      <td>52.687500</td>\n",
       "      <td>53.297501</td>\n",
       "      <td>53.115002</td>\n",
       "      <td>89014800.0</td>\n",
       "      <td>52.593182</td>\n",
       "    </tr>\n",
       "    <tr>\n",
       "      <th>2019-08-23</th>\n",
       "      <td>53.012501</td>\n",
       "      <td>50.250000</td>\n",
       "      <td>52.357498</td>\n",
       "      <td>50.660000</td>\n",
       "      <td>187272000.0</td>\n",
       "      <td>50.162300</td>\n",
       "    </tr>\n",
       "  </tbody>\n",
       "</table>\n",
       "<p>917 rows × 6 columns</p>\n",
       "</div>"
      ],
      "text/plain": [
       "                 High        Low       Open      Close       Volume  Adj Close\n",
       "Date                                                                          \n",
       "2016-01-04  26.342501  25.500000  25.652500  26.337500  270597600.0  24.443037\n",
       "2016-01-05  26.462500  25.602501  26.437500  25.677500  223164000.0  23.830513\n",
       "2016-01-06  25.592501  24.967501  25.139999  25.174999  273829600.0  23.364161\n",
       "2016-01-07  25.032499  24.107500  24.670000  24.112499  324377600.0  22.378082\n",
       "2016-01-08  24.777500  24.190001  24.637501  24.240000  283192000.0  22.496408\n",
       "...               ...        ...        ...        ...          ...        ...\n",
       "2019-08-19  53.182499  52.507500  52.654999  52.587502   97654400.0  52.070862\n",
       "2019-08-20  53.337502  52.580002  52.720001  52.590000  107537200.0  52.073338\n",
       "2019-08-21  53.412498  52.900002  53.247501  53.160000   86141600.0  52.637737\n",
       "2019-08-22  53.610001  52.687500  53.297501  53.115002   89014800.0  52.593182\n",
       "2019-08-23  53.012501  50.250000  52.357498  50.660000  187272000.0  50.162300\n",
       "\n",
       "[917 rows x 6 columns]"
      ]
     },
     "execution_count": 4,
     "metadata": {},
     "output_type": "execute_result"
    }
   ],
   "source": [
    "df = pr.get_data_yahoo(\"AAPL\", start = \"2016-01-01\", end = \"2019-08-25\")\n",
    "df"
   ]
  },
  {
   "cell_type": "code",
   "execution_count": 5,
   "metadata": {},
   "outputs": [
    {
     "data": {
      "text/plain": [
       "<matplotlib.axes._subplots.AxesSubplot at 0x230d642a0a0>"
      ]
     },
     "execution_count": 5,
     "metadata": {},
     "output_type": "execute_result"
    },
    {
     "data": {
      "image/png": "[encoded data removed]",
      "text/plain": [
       "<Figure size 432x288 with 1 Axes>"
      ]
     },
     "metadata": {
      "needs_background": "light"
     },
     "output_type": "display_data"
    }
   ],
   "source": [
    "df[\"Close\"].plot()"
   ]
  },
  {
   "cell_type": "code",
   "execution_count": 6,
   "metadata": {},
   "outputs": [
    {
     "data": {
      "text/plain": [
       "<matplotlib.axes._subplots.AxesSubplot at 0x230d633c310>"
      ]
     },
     "execution_count": 6,
     "metadata": {},
     "output_type": "execute_result"
    },
    {
     "data": {
      "image/png": "[encoded data removed]",
      "text/plain": [
       "<Figure size 432x288 with 1 Axes>"
      ]
     },
     "metadata": {
      "needs_background": "light"
     },
     "output_type": "display_data"
    }
   ],
   "source": [
    "df[\"Close\"].index = pd.DatetimeIndex(df[\"Close\"].index)\n",
    "df[\"Close\"].plot()"
   ]
  },
  {
   "cell_type": "code",
   "execution_count": 7,
   "metadata": {},
   "outputs": [
    {
     "data": {
      "text/plain": [
       "<matplotlib.axes._subplots.AxesSubplot at 0x230d6470820>"
      ]
     },
     "execution_count": 7,
     "metadata": {},
     "output_type": "execute_result"
    },
    {
     "data": {
      "image/png": "[encoded data removed]",
      "text/plain": [
       "<Figure size 432x288 with 1 Axes>"
      ]
     },
     "metadata": {
      "needs_background": "light"
     },
     "output_type": "display_data"
    }
   ],
   "source": [
    "sns.scatterplot(x = \"Close\", y = \"Open\", hue = \"High\", data = df)"
   ]
  },
  {
   "cell_type": "code",
   "execution_count": null,
   "metadata": {},
   "outputs": [],
   "source": []
  }
 ],
 "metadata": {
  "kernelspec": {
   "display_name": "Python 3",
   "language": "python",
   "name": "python3"
  },
  "language_info": {
   "codemirror_mode": {
    "name": "ipython",
    "version": 3
   },
   "file_extension": ".py",
   "mimetype": "text/x-python",
   "name": "python",
   "nbconvert_exporter": "python",
   "pygments_lexer": "ipython3",
   "version": "3.8.3"
  }
 },
 "nbformat": 4,
 "nbformat_minor": 4
}
